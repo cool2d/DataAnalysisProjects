{
 "cells": [
  {
   "cell_type": "markdown",
   "id": "d0cf8c60",
   "metadata": {},
   "source": [
    "## Google Data Analytics Capstone Project: Cyclistic"
   ]
  },
  {
   "cell_type": "markdown",
   "id": "87443240",
   "metadata": {},
   "source": [
    "In Cyclistic, there are two types of members- annual members (people who have purchased annual subscriptions) and casual riders (users who buy passes for a single ride or full day). **The business ask is to convert casual riders to annual members to maximize company success.** Hence the major question for this data analysis is: **how the annual members and csual riders use Cyclistic bikes differently?** \n",
    "\n",
    "**Data Source: [divvy_tripdata](https://divvy-tripdata.s3.amazonaws.com/index.html)**\n",
    "\n",
    "To keep things easier yet accurate, my analysis is focused on data from the last 12 months, for which I downloaded 12 zipped files (from Nov 2022 through October 2023)."
   ]
  },
  {
   "cell_type": "markdown",
   "id": "1c29b2a4",
   "metadata": {},
   "source": [
    "### Conbining the Data Files"
   ]
  },
  {
   "cell_type": "markdown",
   "id": "75dab046",
   "metadata": {},
   "source": [
    "I have 12 zipped files in a folder called \"raw_data\", each zipped file can be uncompressed to another folder that contains one folder and one csv file. \n",
    "The below code will unzip the 12 zip files, store the 12 csv files into a new folder called \"csv_files\", and create a pandas df to store the combined data from the 12 csv files, and save the combined data into a new csv file."
   ]
  },
  {
   "cell_type": "code",
   "execution_count": 1,
   "id": "764aff9c",
   "metadata": {
    "scrolled": true
   },
   "outputs": [],
   "source": [
    "import os\n",
    "import zipfile\n",
    "\n",
    "import pandas as pd\n",
    "import numpy as np\n",
    "\n",
    "\n",
    "# Create a new folder to store the csv files\n",
    "if not os.path.exists('csv_files'):\n",
    "    os.makedirs('csv_files')\n",
    "\n",
    "# Unzip the 12 zip files\n",
    "for filename in os.listdir('raw_data'):\n",
    "    if filename.endswith('.zip'):\n",
    "        with zipfile.ZipFile('raw_data/' + filename, 'r') as zip_ref:\n",
    "            zip_ref.extractall('csv_files')\n",
    "\n",
    "# Combine the data from the 12 csv files into a pandas dataframe\n",
    "data = []\n",
    "for filename in os.listdir('csv_files'):\n",
    "    if filename.endswith('.csv'):\n",
    "        with open('csv_files/' + filename, 'r') as f:\n",
    "            data.append(pd.read_csv(f))\n",
    "\n",
    "df = pd.concat(data)\n",
    "df = df.drop_duplicates()\n",
    "\n",
    "# Save the dataframe to a csv file\n",
    "df.to_csv('combined_data.csv', index=False)"
   ]
  },
  {
   "cell_type": "markdown",
   "id": "82cf2830",
   "metadata": {},
   "source": [
    "### Data Exploration"
   ]
  },
  {
   "cell_type": "code",
   "execution_count": 2,
   "id": "c0473fdb",
   "metadata": {},
   "outputs": [
    {
     "data": {
      "text/html": [
       "<div>\n",
       "<style scoped>\n",
       "    .dataframe tbody tr th:only-of-type {\n",
       "        vertical-align: middle;\n",
       "    }\n",
       "\n",
       "    .dataframe tbody tr th {\n",
       "        vertical-align: top;\n",
       "    }\n",
       "\n",
       "    .dataframe thead th {\n",
       "        text-align: right;\n",
       "    }\n",
       "</style>\n",
       "<table border=\"1\" class=\"dataframe\">\n",
       "  <thead>\n",
       "    <tr style=\"text-align: right;\">\n",
       "      <th></th>\n",
       "      <th>ride_id</th>\n",
       "      <th>rideable_type</th>\n",
       "      <th>started_at</th>\n",
       "      <th>ended_at</th>\n",
       "      <th>start_station_name</th>\n",
       "      <th>start_station_id</th>\n",
       "      <th>end_station_name</th>\n",
       "      <th>end_station_id</th>\n",
       "      <th>start_lat</th>\n",
       "      <th>start_lng</th>\n",
       "      <th>end_lat</th>\n",
       "      <th>end_lng</th>\n",
       "      <th>member_casual</th>\n",
       "    </tr>\n",
       "  </thead>\n",
       "  <tbody>\n",
       "    <tr>\n",
       "      <th>0</th>\n",
       "      <td>BCC66FC6FAB27CC7</td>\n",
       "      <td>electric_bike</td>\n",
       "      <td>2022-11-10 06:21:55</td>\n",
       "      <td>2022-11-10 06:31:27</td>\n",
       "      <td>Canal St &amp; Adams St</td>\n",
       "      <td>13011</td>\n",
       "      <td>St. Clair St &amp; Erie St</td>\n",
       "      <td>13016</td>\n",
       "      <td>41.879401</td>\n",
       "      <td>-87.639848</td>\n",
       "      <td>41.894345</td>\n",
       "      <td>-87.622798</td>\n",
       "      <td>member</td>\n",
       "    </tr>\n",
       "    <tr>\n",
       "      <th>1</th>\n",
       "      <td>772AB67E902C180F</td>\n",
       "      <td>classic_bike</td>\n",
       "      <td>2022-11-04 07:31:55</td>\n",
       "      <td>2022-11-04 07:46:25</td>\n",
       "      <td>Canal St &amp; Adams St</td>\n",
       "      <td>13011</td>\n",
       "      <td>St. Clair St &amp; Erie St</td>\n",
       "      <td>13016</td>\n",
       "      <td>41.879255</td>\n",
       "      <td>-87.639904</td>\n",
       "      <td>41.894345</td>\n",
       "      <td>-87.622798</td>\n",
       "      <td>member</td>\n",
       "    </tr>\n",
       "    <tr>\n",
       "      <th>2</th>\n",
       "      <td>585EAD07FDEC0152</td>\n",
       "      <td>classic_bike</td>\n",
       "      <td>2022-11-21 17:20:29</td>\n",
       "      <td>2022-11-21 17:34:36</td>\n",
       "      <td>Indiana Ave &amp; Roosevelt Rd</td>\n",
       "      <td>SL-005</td>\n",
       "      <td>St. Clair St &amp; Erie St</td>\n",
       "      <td>13016</td>\n",
       "      <td>41.867888</td>\n",
       "      <td>-87.623041</td>\n",
       "      <td>41.894345</td>\n",
       "      <td>-87.622798</td>\n",
       "      <td>member</td>\n",
       "    </tr>\n",
       "    <tr>\n",
       "      <th>3</th>\n",
       "      <td>91C4E7ED3C262FF9</td>\n",
       "      <td>classic_bike</td>\n",
       "      <td>2022-11-25 17:29:34</td>\n",
       "      <td>2022-11-25 17:45:15</td>\n",
       "      <td>Indiana Ave &amp; Roosevelt Rd</td>\n",
       "      <td>SL-005</td>\n",
       "      <td>St. Clair St &amp; Erie St</td>\n",
       "      <td>13016</td>\n",
       "      <td>41.867888</td>\n",
       "      <td>-87.623041</td>\n",
       "      <td>41.894345</td>\n",
       "      <td>-87.622798</td>\n",
       "      <td>member</td>\n",
       "    </tr>\n",
       "    <tr>\n",
       "      <th>4</th>\n",
       "      <td>709206A3104CABC8</td>\n",
       "      <td>classic_bike</td>\n",
       "      <td>2022-11-29 17:24:25</td>\n",
       "      <td>2022-11-29 17:42:51</td>\n",
       "      <td>Indiana Ave &amp; Roosevelt Rd</td>\n",
       "      <td>SL-005</td>\n",
       "      <td>St. Clair St &amp; Erie St</td>\n",
       "      <td>13016</td>\n",
       "      <td>41.867888</td>\n",
       "      <td>-87.623041</td>\n",
       "      <td>41.894345</td>\n",
       "      <td>-87.622798</td>\n",
       "      <td>member</td>\n",
       "    </tr>\n",
       "  </tbody>\n",
       "</table>\n",
       "</div>"
      ],
      "text/plain": [
       "            ride_id  rideable_type           started_at             ended_at  \\\n",
       "0  BCC66FC6FAB27CC7  electric_bike  2022-11-10 06:21:55  2022-11-10 06:31:27   \n",
       "1  772AB67E902C180F   classic_bike  2022-11-04 07:31:55  2022-11-04 07:46:25   \n",
       "2  585EAD07FDEC0152   classic_bike  2022-11-21 17:20:29  2022-11-21 17:34:36   \n",
       "3  91C4E7ED3C262FF9   classic_bike  2022-11-25 17:29:34  2022-11-25 17:45:15   \n",
       "4  709206A3104CABC8   classic_bike  2022-11-29 17:24:25  2022-11-29 17:42:51   \n",
       "\n",
       "           start_station_name start_station_id        end_station_name  \\\n",
       "0         Canal St & Adams St            13011  St. Clair St & Erie St   \n",
       "1         Canal St & Adams St            13011  St. Clair St & Erie St   \n",
       "2  Indiana Ave & Roosevelt Rd           SL-005  St. Clair St & Erie St   \n",
       "3  Indiana Ave & Roosevelt Rd           SL-005  St. Clair St & Erie St   \n",
       "4  Indiana Ave & Roosevelt Rd           SL-005  St. Clair St & Erie St   \n",
       "\n",
       "  end_station_id  start_lat  start_lng    end_lat    end_lng member_casual  \n",
       "0          13016  41.879401 -87.639848  41.894345 -87.622798        member  \n",
       "1          13016  41.879255 -87.639904  41.894345 -87.622798        member  \n",
       "2          13016  41.867888 -87.623041  41.894345 -87.622798        member  \n",
       "3          13016  41.867888 -87.623041  41.894345 -87.622798        member  \n",
       "4          13016  41.867888 -87.623041  41.894345 -87.622798        member  "
      ]
     },
     "execution_count": 2,
     "metadata": {},
     "output_type": "execute_result"
    }
   ],
   "source": [
    "df.head()"
   ]
  },
  {
   "cell_type": "code",
   "execution_count": 3,
   "id": "c4b821cc",
   "metadata": {
    "scrolled": true
   },
   "outputs": [
    {
     "name": "stdout",
     "output_type": "stream",
     "text": [
      "<class 'pandas.core.frame.DataFrame'>\n",
      "RangeIndex: 5652827 entries, 0 to 5652826\n",
      "Data columns (total 13 columns):\n",
      " #   Column              Dtype  \n",
      "---  ------              -----  \n",
      " 0   ride_id             object \n",
      " 1   rideable_type       object \n",
      " 2   started_at          object \n",
      " 3   ended_at            object \n",
      " 4   start_station_name  object \n",
      " 5   start_station_id    object \n",
      " 6   end_station_name    object \n",
      " 7   end_station_id      object \n",
      " 8   start_lat           float64\n",
      " 9   start_lng           float64\n",
      " 10  end_lat             float64\n",
      " 11  end_lng             float64\n",
      " 12  member_casual       object \n",
      "dtypes: float64(4), object(9)\n",
      "memory usage: 560.7+ MB\n"
     ]
    }
   ],
   "source": [
    "df.info()"
   ]
  },
  {
   "cell_type": "markdown",
   "id": "2e43b4e8",
   "metadata": {},
   "source": [
    "Notice that the numeric data fields in the orignal dataset are all about longtitude/lattitude. We would need data preprocessing to create our own numerical data fields for analysis."
   ]
  },
  {
   "cell_type": "code",
   "execution_count": 4,
   "id": "6bce86b5",
   "metadata": {},
   "outputs": [
    {
     "data": {
      "text/html": [
       "<div>\n",
       "<style scoped>\n",
       "    .dataframe tbody tr th:only-of-type {\n",
       "        vertical-align: middle;\n",
       "    }\n",
       "\n",
       "    .dataframe tbody tr th {\n",
       "        vertical-align: top;\n",
       "    }\n",
       "\n",
       "    .dataframe thead th {\n",
       "        text-align: right;\n",
       "    }\n",
       "</style>\n",
       "<table border=\"1\" class=\"dataframe\">\n",
       "  <thead>\n",
       "    <tr style=\"text-align: right;\">\n",
       "      <th></th>\n",
       "      <th>count</th>\n",
       "      <th>unique</th>\n",
       "      <th>top</th>\n",
       "      <th>freq</th>\n",
       "    </tr>\n",
       "  </thead>\n",
       "  <tbody>\n",
       "    <tr>\n",
       "      <th>ride_id</th>\n",
       "      <td>5652827</td>\n",
       "      <td>5652827</td>\n",
       "      <td>BCC66FC6FAB27CC7</td>\n",
       "      <td>1</td>\n",
       "    </tr>\n",
       "    <tr>\n",
       "      <th>rideable_type</th>\n",
       "      <td>5652827</td>\n",
       "      <td>3</td>\n",
       "      <td>electric_bike</td>\n",
       "      <td>2933508</td>\n",
       "    </tr>\n",
       "    <tr>\n",
       "      <th>started_at</th>\n",
       "      <td>5652827</td>\n",
       "      <td>4764981</td>\n",
       "      <td>2023-07-13 17:38:08</td>\n",
       "      <td>8</td>\n",
       "    </tr>\n",
       "    <tr>\n",
       "      <th>ended_at</th>\n",
       "      <td>5652827</td>\n",
       "      <td>4776456</td>\n",
       "      <td>2023-08-03 07:16:39</td>\n",
       "      <td>15</td>\n",
       "    </tr>\n",
       "    <tr>\n",
       "      <th>start_station_name</th>\n",
       "      <td>4786584</td>\n",
       "      <td>1579</td>\n",
       "      <td>Streeter Dr &amp; Grand Ave</td>\n",
       "      <td>63213</td>\n",
       "    </tr>\n",
       "    <tr>\n",
       "      <th>start_station_id</th>\n",
       "      <td>4786452</td>\n",
       "      <td>1494</td>\n",
       "      <td>13022</td>\n",
       "      <td>63213</td>\n",
       "    </tr>\n",
       "    <tr>\n",
       "      <th>end_station_name</th>\n",
       "      <td>4734031</td>\n",
       "      <td>1589</td>\n",
       "      <td>Streeter Dr &amp; Grand Ave</td>\n",
       "      <td>64312</td>\n",
       "    </tr>\n",
       "    <tr>\n",
       "      <th>end_station_id</th>\n",
       "      <td>4733890</td>\n",
       "      <td>1503</td>\n",
       "      <td>13022</td>\n",
       "      <td>64312</td>\n",
       "    </tr>\n",
       "    <tr>\n",
       "      <th>member_casual</th>\n",
       "      <td>5652827</td>\n",
       "      <td>2</td>\n",
       "      <td>member</td>\n",
       "      <td>3598046</td>\n",
       "    </tr>\n",
       "  </tbody>\n",
       "</table>\n",
       "</div>"
      ],
      "text/plain": [
       "                      count   unique                      top     freq\n",
       "ride_id             5652827  5652827         BCC66FC6FAB27CC7        1\n",
       "rideable_type       5652827        3            electric_bike  2933508\n",
       "started_at          5652827  4764981      2023-07-13 17:38:08        8\n",
       "ended_at            5652827  4776456      2023-08-03 07:16:39       15\n",
       "start_station_name  4786584     1579  Streeter Dr & Grand Ave    63213\n",
       "start_station_id    4786452     1494                    13022    63213\n",
       "end_station_name    4734031     1589  Streeter Dr & Grand Ave    64312\n",
       "end_station_id      4733890     1503                    13022    64312\n",
       "member_casual       5652827        2                   member  3598046"
      ]
     },
     "execution_count": 4,
     "metadata": {},
     "output_type": "execute_result"
    }
   ],
   "source": [
    "# quick examination of non-numeric data fields\n",
    "df.select_dtypes(object).describe().T"
   ]
  },
  {
   "cell_type": "code",
   "execution_count": 5,
   "id": "db2999ca",
   "metadata": {},
   "outputs": [
    {
     "data": {
      "text/plain": [
       "(array(['electric_bike', 'classic_bike', 'docked_bike'], dtype=object),\n",
       " array(['member', 'casual'], dtype=object))"
      ]
     },
     "execution_count": 5,
     "metadata": {},
     "output_type": "execute_result"
    }
   ],
   "source": [
    "# Quick examination of the unique values for some particular categorical data points: rideable type, user type\n",
    "\n",
    "df.rideable_type.unique(), df.member_casual.unique()"
   ]
  },
  {
   "cell_type": "markdown",
   "id": "cd5511a0",
   "metadata": {},
   "source": [
    "### Data Preprocessing"
   ]
  },
  {
   "cell_type": "code",
   "execution_count": 6,
   "id": "eb2a5605",
   "metadata": {},
   "outputs": [],
   "source": [
    "# convert from string to datetime, and calculate time duration in minute\n",
    "from datetime import datetime\n",
    "\n",
    "df['started_at'] = pd.to_datetime(df['started_at'])\n",
    "df['ended_at'] = pd.to_datetime(df['ended_at'])\n",
    "\n",
    "df['duration'] = (df['ended_at'] - df['started_at']).dt.total_seconds()/60"
   ]
  },
  {
   "cell_type": "code",
   "execution_count": 7,
   "id": "56adabf0",
   "metadata": {},
   "outputs": [],
   "source": [
    "# Find \"day of week\" for started_at date\n",
    "df['start_dayname'] = df.started_at.dt.day_name()"
   ]
  },
  {
   "cell_type": "code",
   "execution_count": 8,
   "id": "d32f475b",
   "metadata": {},
   "outputs": [
    {
     "data": {
      "text/html": [
       "<div>\n",
       "<style scoped>\n",
       "    .dataframe tbody tr th:only-of-type {\n",
       "        vertical-align: middle;\n",
       "    }\n",
       "\n",
       "    .dataframe tbody tr th {\n",
       "        vertical-align: top;\n",
       "    }\n",
       "\n",
       "    .dataframe thead th {\n",
       "        text-align: right;\n",
       "    }\n",
       "</style>\n",
       "<table border=\"1\" class=\"dataframe\">\n",
       "  <thead>\n",
       "    <tr style=\"text-align: right;\">\n",
       "      <th></th>\n",
       "      <th>ride_id</th>\n",
       "      <th>rideable_type</th>\n",
       "      <th>started_at</th>\n",
       "      <th>ended_at</th>\n",
       "      <th>start_station_name</th>\n",
       "      <th>start_station_id</th>\n",
       "      <th>end_station_name</th>\n",
       "      <th>end_station_id</th>\n",
       "      <th>start_lat</th>\n",
       "      <th>start_lng</th>\n",
       "      <th>end_lat</th>\n",
       "      <th>end_lng</th>\n",
       "      <th>member_casual</th>\n",
       "      <th>duration</th>\n",
       "      <th>start_dayname</th>\n",
       "      <th>season</th>\n",
       "    </tr>\n",
       "  </thead>\n",
       "  <tbody>\n",
       "    <tr>\n",
       "      <th>1536340</th>\n",
       "      <td>D73E3F466EAFAC10</td>\n",
       "      <td>electric_bike</td>\n",
       "      <td>2023-04-19 22:46:15</td>\n",
       "      <td>2023-04-19 22:50:36</td>\n",
       "      <td>Halsted St &amp; Roscoe St</td>\n",
       "      <td>TA1309000025</td>\n",
       "      <td>Broadway &amp; Sheridan Rd</td>\n",
       "      <td>13323</td>\n",
       "      <td>41.94366</td>\n",
       "      <td>-87.648972</td>\n",
       "      <td>41.952833</td>\n",
       "      <td>-87.649993</td>\n",
       "      <td>member</td>\n",
       "      <td>4.35</td>\n",
       "      <td>Wednesday</td>\n",
       "      <td>Spring</td>\n",
       "    </tr>\n",
       "  </tbody>\n",
       "</table>\n",
       "</div>"
      ],
      "text/plain": [
       "                  ride_id  rideable_type          started_at  \\\n",
       "1536340  D73E3F466EAFAC10  electric_bike 2023-04-19 22:46:15   \n",
       "\n",
       "                   ended_at      start_station_name start_station_id  \\\n",
       "1536340 2023-04-19 22:50:36  Halsted St & Roscoe St     TA1309000025   \n",
       "\n",
       "               end_station_name end_station_id  start_lat  start_lng  \\\n",
       "1536340  Broadway & Sheridan Rd          13323   41.94366 -87.648972   \n",
       "\n",
       "           end_lat    end_lng member_casual  duration start_dayname  season  \n",
       "1536340  41.952833 -87.649993        member      4.35     Wednesday  Spring  "
      ]
     },
     "execution_count": 8,
     "metadata": {},
     "output_type": "execute_result"
    }
   ],
   "source": [
    "#  Find Season \n",
    "\n",
    "# df['season'] = np.where(df['started_at'].dt.month.between(3,5), 'Spring',\n",
    "#                         np.where(df['started_at'].dt.month.between(6,8), 'Summer',\n",
    "#                                  np.where (df['started_at'].dt.month.between(9,11), 'Fall', 'Winter')\n",
    "#                                 )\n",
    "#                        )\n",
    "\n",
    "b = [1,3,6,9,12,13] # 13 is a dummy threshold\n",
    "l = ['Winter', 'Spring','Summer','Fall','Winter']\n",
    "\n",
    "df['season'] = pd.cut(df.started_at.dt.month, bins = b, labels = l, include_lowest = True, right = False, ordered=False)\n",
    "\n",
    "df.sample()"
   ]
  },
  {
   "cell_type": "code",
   "execution_count": 10,
   "id": "5af4ed2a",
   "metadata": {
    "scrolled": false
   },
   "outputs": [
    {
     "data": {
      "text/html": [
       "<div>\n",
       "<style scoped>\n",
       "    .dataframe tbody tr th:only-of-type {\n",
       "        vertical-align: middle;\n",
       "    }\n",
       "\n",
       "    .dataframe tbody tr th {\n",
       "        vertical-align: top;\n",
       "    }\n",
       "\n",
       "    .dataframe thead th {\n",
       "        text-align: right;\n",
       "    }\n",
       "</style>\n",
       "<table border=\"1\" class=\"dataframe\">\n",
       "  <thead>\n",
       "    <tr style=\"text-align: right;\">\n",
       "      <th></th>\n",
       "      <th>count</th>\n",
       "      <th>unique</th>\n",
       "      <th>top</th>\n",
       "      <th>freq</th>\n",
       "    </tr>\n",
       "  </thead>\n",
       "  <tbody>\n",
       "    <tr>\n",
       "      <th>ride_id</th>\n",
       "      <td>5652827</td>\n",
       "      <td>5652827</td>\n",
       "      <td>BCC66FC6FAB27CC7</td>\n",
       "      <td>1</td>\n",
       "    </tr>\n",
       "    <tr>\n",
       "      <th>rideable_type</th>\n",
       "      <td>5652827</td>\n",
       "      <td>3</td>\n",
       "      <td>electric_bike</td>\n",
       "      <td>2933508</td>\n",
       "    </tr>\n",
       "    <tr>\n",
       "      <th>start_station_name</th>\n",
       "      <td>4786584</td>\n",
       "      <td>1579</td>\n",
       "      <td>Streeter Dr &amp; Grand Ave</td>\n",
       "      <td>63213</td>\n",
       "    </tr>\n",
       "    <tr>\n",
       "      <th>start_station_id</th>\n",
       "      <td>4786452</td>\n",
       "      <td>1494</td>\n",
       "      <td>13022</td>\n",
       "      <td>63213</td>\n",
       "    </tr>\n",
       "    <tr>\n",
       "      <th>end_station_name</th>\n",
       "      <td>4734031</td>\n",
       "      <td>1589</td>\n",
       "      <td>Streeter Dr &amp; Grand Ave</td>\n",
       "      <td>64312</td>\n",
       "    </tr>\n",
       "    <tr>\n",
       "      <th>end_station_id</th>\n",
       "      <td>4733890</td>\n",
       "      <td>1503</td>\n",
       "      <td>13022</td>\n",
       "      <td>64312</td>\n",
       "    </tr>\n",
       "    <tr>\n",
       "      <th>member_casual</th>\n",
       "      <td>5652827</td>\n",
       "      <td>2</td>\n",
       "      <td>member</td>\n",
       "      <td>3598046</td>\n",
       "    </tr>\n",
       "    <tr>\n",
       "      <th>start_dayname</th>\n",
       "      <td>5652827</td>\n",
       "      <td>7</td>\n",
       "      <td>Saturday</td>\n",
       "      <td>858700</td>\n",
       "    </tr>\n",
       "    <tr>\n",
       "      <th>season</th>\n",
       "      <td>5652827</td>\n",
       "      <td>4</td>\n",
       "      <td>Summer</td>\n",
       "      <td>2258961</td>\n",
       "    </tr>\n",
       "  </tbody>\n",
       "</table>\n",
       "</div>"
      ],
      "text/plain": [
       "                      count   unique                      top     freq\n",
       "ride_id             5652827  5652827         BCC66FC6FAB27CC7        1\n",
       "rideable_type       5652827        3            electric_bike  2933508\n",
       "start_station_name  4786584     1579  Streeter Dr & Grand Ave    63213\n",
       "start_station_id    4786452     1494                    13022    63213\n",
       "end_station_name    4734031     1589  Streeter Dr & Grand Ave    64312\n",
       "end_station_id      4733890     1503                    13022    64312\n",
       "member_casual       5652827        2                   member  3598046\n",
       "start_dayname       5652827        7                 Saturday   858700\n",
       "season              5652827        4                   Summer  2258961"
      ]
     },
     "execution_count": 10,
     "metadata": {},
     "output_type": "execute_result"
    }
   ],
   "source": [
    "df.select_dtypes(['object','category']).describe().T"
   ]
  },
  {
   "cell_type": "markdown",
   "id": "c9b64c66",
   "metadata": {},
   "source": [
    "### Data Analysis\n",
    "**Questions to explore: Behavioral differences between the two types of customers (member vs casual)**\n",
    "\n",
    "- Number of trips by user types\n",
    "\n",
    "- Average trip duration (in minutes) by user types\n",
    "\n",
    "- Top start stations for both types of users\n",
    "\n",
    "- Rideable types used by both types of users\n",
    "\n",
    "- Number of trips in different parts of the day by user types\n",
    "\n",
    "- Number of trips on different days of the week by user types\n",
    "\n",
    "- Number of trips in different seasons by user types"
   ]
  },
  {
   "cell_type": "code",
   "execution_count": 11,
   "id": "b5e0dea0",
   "metadata": {},
   "outputs": [
    {
     "name": "stdout",
     "output_type": "stream",
     "text": [
      "member    3598046\n",
      "casual    2054781\n",
      "Name: member_casual, dtype: int64\n"
     ]
    },
    {
     "data": {
      "text/plain": [
       "<Axes: ylabel='member_casual'>"
      ]
     },
     "execution_count": 11,
     "metadata": {},
     "output_type": "execute_result"
    },
    {
     "data": {
      "image/png": "[encoded data removed]",
      "text/plain": [
       "<Figure size 640x480 with 1 Axes>"
      ]
     },
     "metadata": {},
     "output_type": "display_data"
    }
   ],
   "source": [
    "### 1. Number of trips based on user types\n",
    "print(df.member_casual.value_counts())\n",
    "\n",
    "df.member_casual.value_counts().plot(kind = 'pie', autopct='%1.1f%%')"
   ]
  },
  {
   "cell_type": "code",
   "execution_count": 14,
   "id": "5fa7e989",
   "metadata": {
    "scrolled": true
   },
   "outputs": [
    {
     "data": {
      "text/plain": [
       "<Axes: ylabel='member_casual'>"
      ]
     },
     "execution_count": 14,
     "metadata": {},
     "output_type": "execute_result"
    },
    {
     "data": {
      "image/png": "[encoded data removed]",
      "text/plain": [
       "<Figure size 600x300 with 1 Axes>"
      ]
     },
     "metadata": {},
     "output_type": "display_data"
    }
   ],
   "source": [
    "### 2. Average trip duration in minutes by user types\n",
    "df.groupby('member_casual').duration.mean().plot(kind = 'barh', figsize = (6,3))"
   ]
  },
  {
   "cell_type": "markdown",
   "id": "efa57920",
   "metadata": {},
   "source": [
    "Notice that **casual riders travel 2X longer durations but less frequently than members.**"
   ]
  },
  {
   "cell_type": "code",
   "execution_count": 15,
   "id": "c53db929",
   "metadata": {},
   "outputs": [
    {
     "data": {
      "text/html": [
       "<div>\n",
       "<style scoped>\n",
       "    .dataframe tbody tr th:only-of-type {\n",
       "        vertical-align: middle;\n",
       "    }\n",
       "\n",
       "    .dataframe tbody tr th {\n",
       "        vertical-align: top;\n",
       "    }\n",
       "\n",
       "    .dataframe thead th {\n",
       "        text-align: right;\n",
       "    }\n",
       "</style>\n",
       "<table border=\"1\" class=\"dataframe\">\n",
       "  <thead>\n",
       "    <tr style=\"text-align: right;\">\n",
       "      <th>member_casual</th>\n",
       "      <th>casual</th>\n",
       "      <th>member</th>\n",
       "    </tr>\n",
       "    <tr>\n",
       "      <th>start_station_name</th>\n",
       "      <th></th>\n",
       "      <th></th>\n",
       "    </tr>\n",
       "  </thead>\n",
       "  <tbody>\n",
       "    <tr>\n",
       "      <th>Streeter Dr &amp; Grand Ave</th>\n",
       "      <td>46186.0</td>\n",
       "      <td>17027.0</td>\n",
       "    </tr>\n",
       "    <tr>\n",
       "      <th>DuSable Lake Shore Dr &amp; Monroe St</th>\n",
       "      <td>30323.0</td>\n",
       "      <td>9723.0</td>\n",
       "    </tr>\n",
       "    <tr>\n",
       "      <th>Michigan Ave &amp; Oak St</th>\n",
       "      <td>22525.0</td>\n",
       "      <td>14632.0</td>\n",
       "    </tr>\n",
       "    <tr>\n",
       "      <th>Millennium Park</th>\n",
       "      <td>20256.0</td>\n",
       "      <td>9858.0</td>\n",
       "    </tr>\n",
       "    <tr>\n",
       "      <th>DuSable Lake Shore Dr &amp; North Blvd</th>\n",
       "      <td>20256.0</td>\n",
       "      <td>15564.0</td>\n",
       "    </tr>\n",
       "    <tr>\n",
       "      <th>Shedd Aquarium</th>\n",
       "      <td>17777.0</td>\n",
       "      <td>4983.0</td>\n",
       "    </tr>\n",
       "    <tr>\n",
       "      <th>Theater on the Lake</th>\n",
       "      <td>16327.0</td>\n",
       "      <td>13620.0</td>\n",
       "    </tr>\n",
       "    <tr>\n",
       "      <th>Dusable Harbor</th>\n",
       "      <td>15153.0</td>\n",
       "      <td>5855.0</td>\n",
       "    </tr>\n",
       "    <tr>\n",
       "      <th>Wells St &amp; Concord Ln</th>\n",
       "      <td>12185.0</td>\n",
       "      <td>20991.0</td>\n",
       "    </tr>\n",
       "    <tr>\n",
       "      <th>Montrose Harbor</th>\n",
       "      <td>11916.0</td>\n",
       "      <td>7950.0</td>\n",
       "    </tr>\n",
       "  </tbody>\n",
       "</table>\n",
       "</div>"
      ],
      "text/plain": [
       "member_casual                        casual   member\n",
       "start_station_name                                  \n",
       "Streeter Dr & Grand Ave             46186.0  17027.0\n",
       "DuSable Lake Shore Dr & Monroe St   30323.0   9723.0\n",
       "Michigan Ave & Oak St               22525.0  14632.0\n",
       "Millennium Park                     20256.0   9858.0\n",
       "DuSable Lake Shore Dr & North Blvd  20256.0  15564.0\n",
       "Shedd Aquarium                      17777.0   4983.0\n",
       "Theater on the Lake                 16327.0  13620.0\n",
       "Dusable Harbor                      15153.0   5855.0\n",
       "Wells St & Concord Ln               12185.0  20991.0\n",
       "Montrose Harbor                     11916.0   7950.0"
      ]
     },
     "execution_count": 15,
     "metadata": {},
     "output_type": "execute_result"
    }
   ],
   "source": [
    "### 3. Top Starting Stations by user_type (casual vs member)\n",
    "df.pivot_table(index = 'start_station_name', columns = 'member_casual', values='ride_id', aggfunc='count' )\\\n",
    ".sort_values(by='casual', ascending=False).head(10)"
   ]
  },
  {
   "cell_type": "code",
   "execution_count": 16,
   "id": "91990b93",
   "metadata": {},
   "outputs": [
    {
     "data": {
      "text/plain": [
       "Kingsbury St & Kinzie St        25458\n",
       "Clinton St & Washington Blvd    25027\n",
       "Clark St & Elm St               24481\n",
       "Wells St & Concord Ln           20991\n",
       "University Ave & 57th St        20276\n",
       "Wells St & Elm St               19968\n",
       "Clinton St & Madison St         19688\n",
       "Ellis Ave & 60th St             18845\n",
       "Broadway & Barry Ave            18703\n",
       "Loomis St & Lexington St        18540\n",
       "Name: start_station_name, dtype: int64"
      ]
     },
     "execution_count": 16,
     "metadata": {},
     "output_type": "execute_result"
    }
   ],
   "source": [
    "## Top Starting Stations for casual users\n",
    "df.query(\"member_casual == 'member'\").start_station_name.value_counts().head(10)"
   ]
  },
  {
   "cell_type": "code",
   "execution_count": 17,
   "id": "63f79dd0",
   "metadata": {},
   "outputs": [
    {
     "data": {
      "text/html": [
       "<div>\n",
       "<style scoped>\n",
       "    .dataframe tbody tr th:only-of-type {\n",
       "        vertical-align: middle;\n",
       "    }\n",
       "\n",
       "    .dataframe tbody tr th {\n",
       "        vertical-align: top;\n",
       "    }\n",
       "\n",
       "    .dataframe thead th {\n",
       "        text-align: right;\n",
       "    }\n",
       "</style>\n",
       "<table border=\"1\" class=\"dataframe\">\n",
       "  <thead>\n",
       "    <tr style=\"text-align: right;\">\n",
       "      <th>member_casual</th>\n",
       "      <th>casual</th>\n",
       "      <th>member</th>\n",
       "    </tr>\n",
       "    <tr>\n",
       "      <th>rideable_type</th>\n",
       "      <th></th>\n",
       "      <th></th>\n",
       "    </tr>\n",
       "  </thead>\n",
       "  <tbody>\n",
       "    <tr>\n",
       "      <th>classic_bike</th>\n",
       "      <td>859572</td>\n",
       "      <td>1773649</td>\n",
       "    </tr>\n",
       "    <tr>\n",
       "      <th>docked_bike</th>\n",
       "      <td>86098</td>\n",
       "      <td>0</td>\n",
       "    </tr>\n",
       "    <tr>\n",
       "      <th>electric_bike</th>\n",
       "      <td>1109111</td>\n",
       "      <td>1824397</td>\n",
       "    </tr>\n",
       "  </tbody>\n",
       "</table>\n",
       "</div>"
      ],
      "text/plain": [
       "member_casual   casual   member\n",
       "rideable_type                  \n",
       "classic_bike    859572  1773649\n",
       "docked_bike      86098        0\n",
       "electric_bike  1109111  1824397"
      ]
     },
     "execution_count": 17,
     "metadata": {},
     "output_type": "execute_result"
    }
   ],
   "source": [
    "### 4. Number of trips in different rideable by user_type (rideable_type)\n",
    "\n",
    "# df.pivot_table(index = 'rideable_type', columns = 'member_casual', values='ride_id', aggfunc='count')\n",
    "\n",
    "pd.crosstab(df.rideable_type,df.member_casual)"
   ]
  },
  {
   "cell_type": "code",
   "execution_count": 27,
   "id": "ee98eba4",
   "metadata": {},
   "outputs": [
    {
     "data": {
      "text/plain": [
       "<Axes: xlabel='Hour of Day'>"
      ]
     },
     "execution_count": 27,
     "metadata": {},
     "output_type": "execute_result"
    },
    {
     "data": {
      "image/png": "[encoded data removed]",
      "text/plain": [
       "<Figure size 900x400 with 1 Axes>"
      ]
     },
     "metadata": {},
     "output_type": "display_data"
    }
   ],
   "source": [
    "### 5. Number of trips in different parts of the day (Late Night, Morning,Afternoon,Evening,Night) by user types\n",
    "\n",
    "# print(df.pivot_table(index = 'day_session', columns = 'member_casual', values='ride_id', aggfunc='nunique'))\n",
    "\n",
    "pd.crosstab(df.started_at.dt.hour, df.member_casual)\\\n",
    ".plot(figsize = (9,4), xlabel = 'Hour of Day')"
   ]
  },
  {
   "cell_type": "markdown",
   "id": "bb7c7e66",
   "metadata": {},
   "source": [
    "**Members prefer riding bikes during commute hours (peaks around 8am and 5pm), while casual riders use bike throughout the day (more frequently in the afternoon).**"
   ]
  },
  {
   "cell_type": "code",
   "execution_count": 23,
   "id": "9ce1cd19",
   "metadata": {},
   "outputs": [
    {
     "data": {
      "text/plain": [
       "<Axes: xlabel='Day of Week (Monday to Sunday)'>"
      ]
     },
     "execution_count": 23,
     "metadata": {},
     "output_type": "execute_result"
    },
    {
     "data": {
      "image/png": "[encoded data removed]",
      "text/plain": [
       "<Figure size 800x400 with 1 Axes>"
      ]
     },
     "metadata": {},
     "output_type": "display_data"
    }
   ],
   "source": [
    "### 6. Number of trips on different days of the week by user types\n",
    "df.pivot_table(index =df.started_at.dt.weekday, columns = 'member_casual', values='ride_id', aggfunc='nunique')\\\n",
    ".plot(figsize = (8,4), xlabel = 'Day of Week (Monday to Sunday)')"
   ]
  },
  {
   "cell_type": "markdown",
   "id": "ba2051ef",
   "metadata": {},
   "source": [
    "Notice the signficant behavioral difference between member and casual riders: **members prefer weekdays, while casual users perfer Saturday and Sunday.**"
   ]
  },
  {
   "cell_type": "code",
   "execution_count": 24,
   "id": "a278ac29",
   "metadata": {},
   "outputs": [
    {
     "data": {
      "text/html": [
       "<div>\n",
       "<style scoped>\n",
       "    .dataframe tbody tr th:only-of-type {\n",
       "        vertical-align: middle;\n",
       "    }\n",
       "\n",
       "    .dataframe tbody tr th {\n",
       "        vertical-align: top;\n",
       "    }\n",
       "\n",
       "    .dataframe thead th {\n",
       "        text-align: right;\n",
       "    }\n",
       "</style>\n",
       "<table border=\"1\" class=\"dataframe\">\n",
       "  <thead>\n",
       "    <tr style=\"text-align: right;\">\n",
       "      <th>member_casual</th>\n",
       "      <th>casual</th>\n",
       "      <th>member</th>\n",
       "    </tr>\n",
       "    <tr>\n",
       "      <th>season</th>\n",
       "      <th></th>\n",
       "      <th></th>\n",
       "    </tr>\n",
       "  </thead>\n",
       "  <tbody>\n",
       "    <tr>\n",
       "      <th>Summer</th>\n",
       "      <td>943718</td>\n",
       "      <td>1315243</td>\n",
       "    </tr>\n",
       "    <tr>\n",
       "      <th>Fall</th>\n",
       "      <td>539478</td>\n",
       "      <td>1001741</td>\n",
       "    </tr>\n",
       "    <tr>\n",
       "      <th>Spring</th>\n",
       "      <td>443667</td>\n",
       "      <td>846428</td>\n",
       "    </tr>\n",
       "    <tr>\n",
       "      <th>Winter</th>\n",
       "      <td>127918</td>\n",
       "      <td>434634</td>\n",
       "    </tr>\n",
       "  </tbody>\n",
       "</table>\n",
       "</div>"
      ],
      "text/plain": [
       "member_casual  casual   member\n",
       "season                        \n",
       "Summer         943718  1315243\n",
       "Fall           539478  1001741\n",
       "Spring         443667   846428\n",
       "Winter         127918   434634"
      ]
     },
     "execution_count": 24,
     "metadata": {},
     "output_type": "execute_result"
    }
   ],
   "source": [
    "### 7. Number of trips in different seasons (spring, summer, fall, winter) by user types\n",
    "# df.pivot_table(index = 'season', columns = 'member_casual', values='ride_id', aggfunc='count')\n",
    "pd.crosstab(df.season, df.member_casual)\\\n",
    ".sort_values(by = 'casual', ascending = False)"
   ]
  },
  {
   "cell_type": "code",
   "execution_count": 25,
   "id": "6f8afaff",
   "metadata": {
    "scrolled": false
   },
   "outputs": [
    {
     "data": {
      "text/html": [
       "<div>\n",
       "<style scoped>\n",
       "    .dataframe tbody tr th:only-of-type {\n",
       "        vertical-align: middle;\n",
       "    }\n",
       "\n",
       "    .dataframe tbody tr th {\n",
       "        vertical-align: top;\n",
       "    }\n",
       "\n",
       "    .dataframe thead th {\n",
       "        text-align: right;\n",
       "    }\n",
       "</style>\n",
       "<table border=\"1\" class=\"dataframe\">\n",
       "  <thead>\n",
       "    <tr style=\"text-align: right;\">\n",
       "      <th>member_casual</th>\n",
       "      <th>casual</th>\n",
       "      <th>member</th>\n",
       "    </tr>\n",
       "    <tr>\n",
       "      <th>started_at</th>\n",
       "      <th></th>\n",
       "      <th></th>\n",
       "    </tr>\n",
       "  </thead>\n",
       "  <tbody>\n",
       "    <tr>\n",
       "      <th>July</th>\n",
       "      <td>331358</td>\n",
       "      <td>436292</td>\n",
       "    </tr>\n",
       "    <tr>\n",
       "      <th>August</th>\n",
       "      <td>311130</td>\n",
       "      <td>460563</td>\n",
       "    </tr>\n",
       "    <tr>\n",
       "      <th>June</th>\n",
       "      <td>301230</td>\n",
       "      <td>418388</td>\n",
       "    </tr>\n",
       "    <tr>\n",
       "      <th>September</th>\n",
       "      <td>261635</td>\n",
       "      <td>404736</td>\n",
       "    </tr>\n",
       "    <tr>\n",
       "      <th>May</th>\n",
       "      <td>234181</td>\n",
       "      <td>370646</td>\n",
       "    </tr>\n",
       "    <tr>\n",
       "      <th>October</th>\n",
       "      <td>177071</td>\n",
       "      <td>360042</td>\n",
       "    </tr>\n",
       "    <tr>\n",
       "      <th>April</th>\n",
       "      <td>147285</td>\n",
       "      <td>279305</td>\n",
       "    </tr>\n",
       "    <tr>\n",
       "      <th>November</th>\n",
       "      <td>100772</td>\n",
       "      <td>236963</td>\n",
       "    </tr>\n",
       "    <tr>\n",
       "      <th>March</th>\n",
       "      <td>62201</td>\n",
       "      <td>196477</td>\n",
       "    </tr>\n",
       "    <tr>\n",
       "      <th>December</th>\n",
       "      <td>44894</td>\n",
       "      <td>136912</td>\n",
       "    </tr>\n",
       "    <tr>\n",
       "      <th>February</th>\n",
       "      <td>43016</td>\n",
       "      <td>147429</td>\n",
       "    </tr>\n",
       "    <tr>\n",
       "      <th>January</th>\n",
       "      <td>40008</td>\n",
       "      <td>150293</td>\n",
       "    </tr>\n",
       "  </tbody>\n",
       "</table>\n",
       "</div>"
      ],
      "text/plain": [
       "member_casual  casual  member\n",
       "started_at                   \n",
       "July           331358  436292\n",
       "August         311130  460563\n",
       "June           301230  418388\n",
       "September      261635  404736\n",
       "May            234181  370646\n",
       "October        177071  360042\n",
       "April          147285  279305\n",
       "November       100772  236963\n",
       "March           62201  196477\n",
       "December        44894  136912\n",
       "February        43016  147429\n",
       "January         40008  150293"
      ]
     },
     "execution_count": 25,
     "metadata": {},
     "output_type": "execute_result"
    }
   ],
   "source": [
    "### 8. Number of trips in different months by user types\n",
    "pd.crosstab(df.started_at.dt.month_name(), df.member_casual)\\\n",
    ".sort_values(by = 'casual', ascending = False)"
   ]
  },
  {
   "cell_type": "code",
   "execution_count": 29,
   "id": "af24d8ab",
   "metadata": {},
   "outputs": [
    {
     "data": {
      "text/plain": [
       "<Axes: xlabel='Month'>"
      ]
     },
     "execution_count": 29,
     "metadata": {},
     "output_type": "execute_result"
    },
    {
     "data": {
      "image/png": "[encoded data removed]",
      "text/plain": [
       "<Figure size 900x300 with 1 Axes>"
      ]
     },
     "metadata": {},
     "output_type": "display_data"
    }
   ],
   "source": [
    "pd.crosstab(df.started_at.dt.month, df.member_casual).plot(figsize = (9,3), xlabel = 'Month')"
   ]
  },
  {
   "cell_type": "markdown",
   "id": "01e373f0",
   "metadata": {},
   "source": [
    "Both members and casual riders use bikes in summer mostly, and many of them uses Cyclistic freqently during spring and fall too. July is casual riders' favorite while August is members' favorite."
   ]
  },
  {
   "cell_type": "markdown",
   "id": "6db7b31b",
   "metadata": {},
   "source": [
    "### Findings and recommendations\n",
    "Based on the analysis, casual riders prefer using bikes over the weekends (especially Saturday) and they use bikes throughout the day (especially active in the afternoon). In contrast, members prefer riding bikes on weekdays during commute hours(8am and 5pm). \n",
    "Both members and casual riders use bikes in summer mostly, and many of them uses Cyclistic freqently during spring and fall too. July is Casual riders' favorite while August is members' favorite.\n",
    "Also, casual riders travel less freqeuntly but longer rides than members (approximately 2X member riders' trip duration).\n",
    "\n",
    "The data suggests that, if casual users can be turned into members, the use of bikes will increase in almost all parts of the day, all days of the week, and a minimum of three seasons of the year. To turn casual users into members, the suggestions would be:\n",
    "\n",
    "- Offering incentives/special gifts on weekend rides by members only.\n",
    "- Offering discounts for new subscriptions during spring and summer (say April, May, and June).\n",
    "\n",
    "\n",
    "Weekend-only or seasonal incentives/discounts will attract casual users to buy memberships as they are most active on weeknds and during summer and spring. As the membership is offered at a discounted price, more of the casual riders would like to buy it.\n",
    "\n",
    "- The marketing campaigns should be conducted heavily in spring and summer around the top stations for casual riders, such as Streeter Dr & Grand Ave, DuStable Lake Shore Dr & Monroe St, Millennium Park, Michigan Ave & Oak St, DuStable Lake Shore Dr & North Blvd, and Shedd Aquarium.\n",
    "\n",
    "- Lastly, offering discounts for longer riders may incentivize casual riders or encourage members to ride for longer time."
   ]
  }
 ],
 "metadata": {
  "kernelspec": {
   "display_name": "Python 3 (ipykernel)",
   "language": "python",
   "name": "python3"
  },
  "language_info": {
   "codemirror_mode": {
    "name": "ipython",
    "version": 3
   },
   "file_extension": ".py",
   "mimetype": "text/x-python",
   "name": "python",
   "nbconvert_exporter": "python",
   "pygments_lexer": "ipython3",
   "version": "3.10.9"
  }
 },
 "nbformat": 4,
 "nbformat_minor": 5
}
